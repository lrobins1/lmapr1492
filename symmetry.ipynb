{
 "cells": [
  {
   "cell_type": "code",
   "execution_count": 12,
   "metadata": {},
   "outputs": [],
   "source": [
    "from pymatgen.ext.matproj import MPRester\n",
    "from pymatgen.io.cif import CifWriter\n",
    "from pymatgen.core.operations import SymmOp\n",
    "#from IPython.display import Image\n",
    "\n",
    "with MPRester(\"o1xT73gLJ9EAfjhPW2\") as m:\n",
    "    structure = m.get_structure_by_material_id(\"mp-14116\")\n",
    "\n",
    "w = CifWriter(structure,1.0)\n",
    "w.write_file('CuRhO2_symmetrized.cif')\n"
   ]
  },
  {
   "cell_type": "markdown",
   "metadata": {},
   "source": [
    "## Plan miroir (-y,-x,z)"
   ]
  },
  {
   "cell_type": "code",
   "execution_count": 13,
   "metadata": {},
   "outputs": [
    {
     "name": "stdout",
     "output_type": "stream",
     "text": [
      "Matrice de rotation\n",
      "[[ 0. -1.  0.]\n",
      " [-1.  0.  0.]\n",
      " [ 0.  0.  1.]]\n",
      "Vecteur de translation\n",
      "[0. 0. 0.]\n",
      "Application au CuO de coordonnées (1/3,2/3,2/3) (voir figure)\n",
      "[-0.66666667 -0.33333333  0.66666667]\n"
     ]
    }
   ],
   "source": [
    "s1 = SymmOp.from_xyz_string(\"-y,-x,z\")\n",
    "print(\"Matrice de rotation\")\n",
    "print(s1.rotation_matrix)\n",
    "print(\"Vecteur de translation\")\n",
    "print(s1.translation_vector)\n",
    "print(\"Application au CuO de coordonnées (1/3,2/3,2/3) (voir figure)\")\n",
    "print(s1.operate((1/3,2/3,2/3)))"
   ]
  },
  {
   "cell_type": "markdown",
   "metadata": {},
   "source": [
    "On a une équation de la forme : \n",
    "\n",
    "$\\begin{pmatrix} 0 & -1 & 0\\\\ -1 & 0 & 0 \\\\ 0 & 0 & 1 \\end{pmatrix}$ $\\cdot$ $\\begin{pmatrix} x \\\\ y \\\\ z \\end{pmatrix}$ + $\\begin{pmatrix} 0 \\\\ 0 \\\\ 1 \\end{pmatrix} $ = $\\begin{pmatrix} -y\\\\ -x \\\\ z \\end{pmatrix}$"
   ]
  },
  {
   "cell_type": "markdown",
   "metadata": {},
   "source": [
    "![titles](symmetry/miroircuO.jpg) ![titre](symmetry/miroircuO3D.jpg)"
   ]
  },
  {
   "cell_type": "markdown",
   "metadata": {},
   "source": [
    "## Translation (x-1/3,x-y+1/3,z+1/3)"
   ]
  },
  {
   "cell_type": "code",
   "execution_count": 14,
   "metadata": {},
   "outputs": [
    {
     "name": "stdout",
     "output_type": "stream",
     "text": [
      "Matrice de rotation\n",
      "[[ 1.  0.  0.]\n",
      " [ 1. -1.  0.]\n",
      " [ 0.  0.  1.]]\n",
      "Vecteur de translation\n",
      "[-0.33333333  0.33333333  0.33333333]\n",
      "Application au CuO de coordonnées (1/3,2/3,2/3) (voir figure)\n",
      "[0. 0. 1.]\n"
     ]
    }
   ],
   "source": [
    "s2 = SymmOp.from_xyz_string(\"x-1/3,x-y+1/3,z+1/3\")\n",
    "print(\"Matrice de rotation\")\n",
    "print(s2.rotation_matrix)\n",
    "print(\"Vecteur de translation\")\n",
    "print(s2.translation_vector)\n",
    "print(\"Application au CuO de coordonnées (1/3,2/3,2/3) (voir figure)\")\n",
    "print(s2.operate((1/3,2/3,2/3)))"
   ]
  },
  {
   "cell_type": "markdown",
   "metadata": {},
   "source": [
    "On a une équation de la forme : \n",
    "\n",
    "$\\begin{pmatrix} 1 & 0 & 0\\\\ 1 & -1 & 0 \\\\ 0 & 0 & 1 \\end{pmatrix}$ $\\cdot$ $\\begin{pmatrix} x \\\\ y \\\\ z \\end{pmatrix}$ + $\\begin{pmatrix} 1/3  \\\\ 1/3  \\\\ 1/3 \\end{pmatrix} $ = $\\begin{pmatrix} x-1/3\\\\ x-y+1/3 \\\\ z+1/3 \\end{pmatrix}$"
   ]
  },
  {
   "cell_type": "markdown",
   "metadata": {},
   "source": [
    "![trans](symmetry/translation.jpg)"
   ]
  },
  {
   "cell_type": "markdown",
   "metadata": {},
   "source": [
    "## Plan de glissement"
   ]
  },
  {
   "cell_type": "code",
   "execution_count": 15,
   "metadata": {},
   "outputs": [
    {
     "name": "stdout",
     "output_type": "stream",
     "text": [
      "Matrice de rotation\n",
      "[[ 1.  0.  0.]\n",
      " [ 1. -1.  0.]\n",
      " [ 0.  0.  1.]]\n",
      "Vecteur de translation\n",
      "[-0.33333333  0.33333333  0.33333333]\n",
      "Application au CuO de coordonnées (1/3,2/3,2/3) (voir figure)\n",
      "[0. 0. 1.]\n"
     ]
    }
   ],
   "source": [
    "s3 = SymmOp.from_xyz_string(\"x-1/3,x-y+1/3,z+1/3\")\n",
    "print(\"Matrice de rotation\")\n",
    "print(s3.rotation_matrix)\n",
    "print(\"Vecteur de translation\")\n",
    "print(s3.translation_vector)\n",
    "print(\"Application au CuO de coordonnées (1/3,2/3,2/3) (voir figure)\")\n",
    "print(s3.operate((1/3,2/3,2/3)))"
   ]
  },
  {
   "cell_type": "markdown",
   "metadata": {},
   "source": [
    "On a une équation de la forme : \n",
    "\n",
    "$\\begin{pmatrix} 1 & 0 & 0\\\\ 1 & -1 & 0 \\\\ 0 & 0 & 1 \\end{pmatrix}$ $\\cdot$ $\\begin{pmatrix} x \\\\ y \\\\ z \\end{pmatrix}$ + $\\begin{pmatrix} 1/3  \\\\ 1/3  \\\\ 1/3 \\end{pmatrix} $ = $\\begin{pmatrix} x-1/3\\\\ x-y+1/3 \\\\ z+1/3 \\end{pmatrix}$"
   ]
  },
  {
   "cell_type": "markdown",
   "metadata": {},
   "source": [
    "![gliss](symmetry/glissement.jpg)"
   ]
  },
  {
   "cell_type": "code",
   "execution_count": null,
   "metadata": {},
   "outputs": [],
   "source": []
  }
 ],
 "metadata": {
  "kernelspec": {
   "display_name": "Python 3",
   "language": "python",
   "name": "python3"
  },
  "language_info": {
   "codemirror_mode": {
    "name": "ipython",
    "version": 3
   },
   "file_extension": ".py",
   "mimetype": "text/x-python",
   "name": "python",
   "nbconvert_exporter": "python",
   "pygments_lexer": "ipython3",
   "version": "3.6.8"
  }
 },
 "nbformat": 4,
 "nbformat_minor": 2
}
