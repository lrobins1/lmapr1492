{
 "cells": [
  {
   "cell_type": "code",
   "execution_count": 47,
   "metadata": {},
   "outputs": [
    {
     "name": "stdout",
     "output_type": "stream",
     "text": [
      "Réseau direct : \n",
      "\n",
      "Taille des vecteurs: \n",
      "a= 5.999814693555689\n",
      "b= 5.999814694738774\n",
      "c= 5.999814692847186 \n",
      "\n",
      "Angles:\n",
      "30.29502682785583\n",
      "30.2950268181188\n",
      "30.295026809508226\n"
     ]
    }
   ],
   "source": [
    "from pymatgen.ext.matproj import MPRester\n",
    "from pymatgen import Lattice, Structure\n",
    "from pymatgen.symmetry.analyzer import SpacegroupAnalyzer\n",
    "\n",
    "with MPRester(\"o1xT73gLJ9EAfjhPW2\") as m:\n",
    "    structure = m.get_structure_by_material_id(\"mp-14116\")\n",
    "\n",
    "#réseau direct    \n",
    "lattice = structure.lattice\n",
    "\n",
    "print('Réseau direct : \\n')\n",
    "\n",
    "print('Taille des vecteurs: ')\n",
    "print('a=', lattice.a)\n",
    "print('b=', lattice.b)\n",
    "print('c=', lattice.c,'\\n')\n",
    "\n",
    "print('Angles:')\n",
    "print(lattice.alpha)\n",
    "print(lattice.beta)\n",
    "print(lattice.gamma)\n"
   ]
  },
  {
   "cell_type": "code",
   "execution_count": 48,
   "metadata": {},
   "outputs": [
    {
     "name": "stdout",
     "output_type": "stream",
     "text": [
      "Réseau Réciproque : \n",
      "\n",
      "Taille des vecteurs: \n",
      "a= 2.342631338234414\n",
      "b= 2.3426313370910505\n",
      "c= 2.342631337227028 \n",
      "\n",
      "Angles:\n",
      "117.60399981025537\n",
      "117.60399984212955\n",
      "117.60399987031623\n"
     ]
    }
   ],
   "source": [
    "#réseau réciproque\n",
    "reverse_lattice=lattice.reciprocal_lattice\n",
    "\n",
    "print('Réseau Réciproque : \\n')\n",
    "\n",
    "print('Taille des vecteurs: ')\n",
    "print('a=', reverse_lattice.a)\n",
    "print('b=', reverse_lattice.b)\n",
    "print('c=', reverse_lattice.c,'\\n')\n",
    "\n",
    "print('Angles:')\n",
    "print(reverse_lattice.alpha)\n",
    "print(reverse_lattice.beta)\n",
    "print(reverse_lattice.gamma)"
   ]
  },
  {
   "cell_type": "code",
   "execution_count": 49,
   "metadata": {},
   "outputs": [
    {
     "name": "stdout",
     "output_type": "stream",
     "text": [
      "type de maille : rhombohedral\n",
      "système cristallin : trigonal\n",
      "réseau ponsctuel : -3m\n"
     ]
    }
   ],
   "source": [
    "#type de maille, système cristallin et réseau ponctuel\n",
    "\n",
    "analyser=SpacegroupAnalyzer(structure,0.1)\n",
    "print('type de maille :' ,analyser.get_lattice_type())\n",
    "print('système cristallin :', analyser.get_crystal_system())\n",
    "print('réseau ponsctuel :', analyser.get_point_group_symbol())"
   ]
  },
  {
   "cell_type": "code",
   "execution_count": null,
   "metadata": {},
   "outputs": [],
   "source": []
  }
 ],
 "metadata": {
  "kernelspec": {
   "display_name": "Python 3",
   "language": "python",
   "name": "python3"
  },
  "language_info": {
   "codemirror_mode": {
    "name": "ipython",
    "version": 3
   },
   "file_extension": ".py",
   "mimetype": "text/x-python",
   "name": "python",
   "nbconvert_exporter": "python",
   "pygments_lexer": "ipython3",
   "version": "3.6.8"
  }
 },
 "nbformat": 4,
 "nbformat_minor": 2
}
