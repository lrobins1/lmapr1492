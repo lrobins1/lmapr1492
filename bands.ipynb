{
 "cells": [
  {
   "cell_type": "code",
   "execution_count": 35,
   "metadata": {},
   "outputs": [],
   "source": [
    "from pymatgen.ext.matproj import MPRester\n",
    "from pymatgen.analysis.diffraction.xrd import XRDCalculator\n",
    "from IPython.display import display\n",
    "from pymatgen.electronic_structure.plotter import BSPlotter\n",
    "import matplotlib.pyplot as plt\n",
    "\n",
    "\n",
    "with MPRester(\"o1xT73gLJ9EAfjhPW2\") as m:\n",
    "    structure = m.get_bandstructure_by_material_id(\"mp-14116\")\n",
    "\n",
    "E=structure.efermi\n",
    "band_gap=structure.get_band_gap()\n",
    "direct_band_gap=structure.get_direct_band_gap()\n",
    "CBM=structure.get_cbm()\n",
    "VBM=structure.get_vbm()"
   ]
  },
  {
   "cell_type": "markdown",
   "metadata": {},
   "source": [
    "## Bande interdite"
   ]
  },
  {
   "cell_type": "code",
   "execution_count": 48,
   "metadata": {},
   "outputs": [
    {
     "name": "stdout",
     "output_type": "stream",
     "text": [
      "{'direct': False, 'energy': 0.9581, 'transition': '(0.634,0.366,0.000)-(0.608,0.608,0.284)'}\n"
     ]
    }
   ],
   "source": [
    "print(band_gap)"
   ]
  },
  {
   "cell_type": "markdown",
   "metadata": {},
   "source": [
    "En analysant les informations sur la bande interdite ci-dessus, on en conclu que la bande interdite est indirecte (on peut clairement le voir à la figure du point suivant).\n",
    "On remarque égalemment que l'énergie de la bande interdite est de 0.9581 eV, le CuRhO2 est donc un semi-conducteur."
   ]
  },
  {
   "cell_type": "markdown",
   "metadata": {},
   "source": [
    "## Directions de dispertion"
   ]
  },
  {
   "cell_type": "markdown",
   "metadata": {},
   "source": [
    "Les endroits de la dernière (première) bande de valence (conduction) où la dispersion est la plus forte et la moins forte sont les endroits où les pentes sont les plus et moins fortes, ces directions sont représentées par des flèches (vertes pour les moins fortes dispersions, orange pour les plus fortes) sur le graphe ci dessous."
   ]
  },
  {
   "cell_type": "markdown",
   "metadata": {},
   "source": [
    "![im2](symmetry/pentes2.png)"
   ]
  },
  {
   "cell_type": "markdown",
   "metadata": {},
   "source": [
    "## Masse effective"
   ]
  },
  {
   "cell_type": "markdown",
   "metadata": {},
   "source": [
    "En théorie, comme on suppose une dispersion parabloique, la masse effective est constante et peut être calculée avec la formule suivante : $$ m^* = \\frac{ \\bar{h}^2}{ d^2 \\epsilon / dk^2} $$.\n",
    "\n",
    "En pratique, pour des états voisins d'un minimum ou d'un maximum de bande, la relation $\\epsilon(k)$ peut souvent être approximée comme suit : \n",
    "\n",
    "$$ \\epsilon(k)-\\epsilon_0  =  \\frac{ \\bar{h}^2 }{ 2m^*} (k_x^2 + k_y^2 + k_z^2)$$"
   ]
  },
  {
   "cell_type": "code",
   "execution_count": 60,
   "metadata": {},
   "outputs": [
    {
     "name": "stdout",
     "output_type": "stream",
     "text": [
      "1.7627703728145316e-31\n",
      "3.165295103258282e-30\n"
     ]
    }
   ],
   "source": [
    "h= (6.58e-16)**2 #eV/s\n",
    "\n",
    "masse_conduc=((h)*(CBM.get('kpoint').cart_coords[0]**2 + CBM.get('kpoint').cart_coords[1]**2 + CBM.get('kpoint').cart_coords[2]**2))/2*(CBM.get('energy')-E)\n",
    "\n",
    "masse_valence=((h)*(VBM.get('kpoint').cart_coords[0]**2 + VBM.get('kpoint').cart_coords[1]**2 + VBM.get('kpoint').cart_coords[2]**2))/2*(VBM.get('energy')+E)\n",
    "\n",
    "print(masse_conduc)\n",
    "print(masse_valence)"
   ]
  },
  {
   "cell_type": "markdown",
   "metadata": {},
   "source": [
    "A l'aide de cette deuxième équation, j'ai pu trouver la masse effective car nous avons les énergies aux sommet (base) de la dernière (première) bande de valence (conduction). On obtient des valeurs de :  \n",
    "1.7627703728145316e-31 kg pour le sommet de la bande de conduction  \n",
    "3.165295103258282e-30 kg pour la base de la bande de valence"
   ]
  },
  {
   "cell_type": "code",
   "execution_count": null,
   "metadata": {},
   "outputs": [],
   "source": []
  },
  {
   "cell_type": "code",
   "execution_count": null,
   "metadata": {},
   "outputs": [],
   "source": []
  }
 ],
 "metadata": {
  "kernelspec": {
   "display_name": "Python 3",
   "language": "python",
   "name": "python3"
  },
  "language_info": {
   "codemirror_mode": {
    "name": "ipython",
    "version": 3
   },
   "file_extension": ".py",
   "mimetype": "text/x-python",
   "name": "python",
   "nbconvert_exporter": "python",
   "pygments_lexer": "ipython3",
   "version": "3.6.8"
  }
 },
 "nbformat": 4,
 "nbformat_minor": 2
}
